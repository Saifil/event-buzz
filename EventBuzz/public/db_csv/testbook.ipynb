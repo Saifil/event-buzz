{
 "cells": [
  {
   "cell_type": "code",
   "execution_count": 1,
   "metadata": {
    "collapsed": true
   },
   "outputs": [],
   "source": [
    "import pandas as pd\n",
    "df = pd.read_csv(\"aug_11.csv\")"
   ]
  },
  {
   "cell_type": "code",
   "execution_count": 2,
   "metadata": {},
   "outputs": [
    {
     "data": {
      "text/html": [
       "<div>\n",
       "<style scoped>\n",
       "    .dataframe tbody tr th:only-of-type {\n",
       "        vertical-align: middle;\n",
       "    }\n",
       "\n",
       "    .dataframe tbody tr th {\n",
       "        vertical-align: top;\n",
       "    }\n",
       "\n",
       "    .dataframe thead th {\n",
       "        text-align: right;\n",
       "    }\n",
       "</style>\n",
       "<table border=\"1\" class=\"dataframe\">\n",
       "  <thead>\n",
       "    <tr style=\"text-align: right;\">\n",
       "      <th></th>\n",
       "      <th>title</th>\n",
       "      <th>description</th>\n",
       "      <th>category</th>\n",
       "      <th>location</th>\n",
       "      <th>image_url</th>\n",
       "      <th>related_link</th>\n",
       "      <th>st_date</th>\n",
       "      <th>end_date</th>\n",
       "      <th>st_time</th>\n",
       "      <th>end_time</th>\n",
       "    </tr>\n",
       "  </thead>\n",
       "  <tbody>\n",
       "    <tr>\n",
       "      <th>0</th>\n",
       "      <td>Eid Al-Adha</td>\n",
       "      <td>An Islamic \"feast of the sacrifice.\"</td>\n",
       "      <td>Other/Miscellaneous</td>\n",
       "      <td>Atlanta, GA</td>\n",
       "      <td>gatech_logo.png</td>\n",
       "      <td>https://www.calendar.gatech.edu/event/615873</td>\n",
       "      <td>Saturday, August 10, 2019</td>\n",
       "      <td>Sunday, August 11, 2019</td>\n",
       "      <td>00:00</td>\n",
       "      <td>23:59</td>\n",
       "    </tr>\n",
       "    <tr>\n",
       "      <th>1</th>\n",
       "      <td>Phase II Registration - Fall 2019</td>\n",
       "      <td>Registration ends at 4 p.m. on August 23. Sche...</td>\n",
       "      <td>Other/Miscellaneous</td>\n",
       "      <td>Atlanta, GA</td>\n",
       "      <td>gatech_logo.png</td>\n",
       "      <td>https://www.calendar.gatech.edu/event/622259</td>\n",
       "      <td>Saturday, August 10, 2019</td>\n",
       "      <td>Friday, August 23, 2019</td>\n",
       "      <td>00:00</td>\n",
       "      <td>23:59</td>\n",
       "    </tr>\n",
       "    <tr>\n",
       "      <th>2</th>\n",
       "      <td>First-Year FASET Orientation</td>\n",
       "      <td>Georgia Tech's orientation program for new und...</td>\n",
       "      <td>Other/Miscellaneous</td>\n",
       "      <td>Georgia Tech Campus</td>\n",
       "      <td>gatech_logo.png</td>\n",
       "      <td>https://www.calendar.gatech.edu/event/622678</td>\n",
       "      <td>Sunday, August 11, 2019</td>\n",
       "      <td>Sunday, August 11, 2019</td>\n",
       "      <td>00:00</td>\n",
       "      <td>23:59</td>\n",
       "    </tr>\n",
       "    <tr>\n",
       "      <th>3</th>\n",
       "      <td>CRC Annual Maintenance Week</td>\n",
       "      <td>Check out the annual Campus Recreation Center ...</td>\n",
       "      <td>NaN</td>\n",
       "      <td>Campus Recreation Center</td>\n",
       "      <td>gatech_logo.png</td>\n",
       "      <td>https://www.calendar.gatech.edu/event/623761</td>\n",
       "      <td>Saturday, August 3, 2019</td>\n",
       "      <td>Saturday, August 3, 2019</td>\n",
       "      <td>00:00</td>\n",
       "      <td>23:59</td>\n",
       "    </tr>\n",
       "  </tbody>\n",
       "</table>\n",
       "</div>"
      ],
      "text/plain": [
       "                               title  \\\n",
       "0                        Eid Al-Adha   \n",
       "1  Phase II Registration - Fall 2019   \n",
       "2       First-Year FASET Orientation   \n",
       "3        CRC Annual Maintenance Week   \n",
       "\n",
       "                                         description             category  \\\n",
       "0               An Islamic \"feast of the sacrifice.\"  Other/Miscellaneous   \n",
       "1  Registration ends at 4 p.m. on August 23. Sche...  Other/Miscellaneous   \n",
       "2  Georgia Tech's orientation program for new und...  Other/Miscellaneous   \n",
       "3  Check out the annual Campus Recreation Center ...                  NaN   \n",
       "\n",
       "                   location        image_url  \\\n",
       "0               Atlanta, GA  gatech_logo.png   \n",
       "1               Atlanta, GA  gatech_logo.png   \n",
       "2       Georgia Tech Campus  gatech_logo.png   \n",
       "3  Campus Recreation Center  gatech_logo.png   \n",
       "\n",
       "                                   related_link                    st_date  \\\n",
       "0  https://www.calendar.gatech.edu/event/615873  Saturday, August 10, 2019   \n",
       "1  https://www.calendar.gatech.edu/event/622259  Saturday, August 10, 2019   \n",
       "2  https://www.calendar.gatech.edu/event/622678    Sunday, August 11, 2019   \n",
       "3  https://www.calendar.gatech.edu/event/623761   Saturday, August 3, 2019   \n",
       "\n",
       "                   end_date st_time end_time  \n",
       "0   Sunday, August 11, 2019   00:00    23:59  \n",
       "1   Friday, August 23, 2019   00:00    23:59  \n",
       "2   Sunday, August 11, 2019   00:00    23:59  \n",
       "3  Saturday, August 3, 2019   00:00    23:59  "
      ]
     },
     "execution_count": 2,
     "metadata": {},
     "output_type": "execute_result"
    }
   ],
   "source": [
    "df.head(5)"
   ]
  },
  {
   "cell_type": "code",
   "execution_count": 4,
   "metadata": {},
   "outputs": [
    {
     "data": {
      "text/plain": [
       "str"
      ]
     },
     "execution_count": 4,
     "metadata": {},
     "output_type": "execute_result"
    }
   ],
   "source": [
    "type(df.iloc[0][1])"
   ]
  },
  {
   "cell_type": "code",
   "execution_count": null,
   "metadata": {
    "collapsed": true
   },
   "outputs": [],
   "source": []
  }
 ],
 "metadata": {
  "kernelspec": {
   "display_name": "Python 2",
   "language": "python",
   "name": "python2"
  },
  "language_info": {
   "codemirror_mode": {
    "name": "ipython",
    "version": 2
   },
   "file_extension": ".py",
   "mimetype": "text/x-python",
   "name": "python",
   "nbconvert_exporter": "python",
   "pygments_lexer": "ipython2",
   "version": "2.7.13"
  }
 },
 "nbformat": 4,
 "nbformat_minor": 2
}
